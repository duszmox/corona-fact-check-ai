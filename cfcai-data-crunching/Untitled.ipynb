{
 "cells": [
  {
   "cell_type": "code",
   "execution_count": 4,
   "metadata": {},
   "outputs": [],
   "source": [
    "import pickle\n",
    "import glob"
   ]
  },
  {
   "cell_type": "code",
   "execution_count": 9,
   "metadata": {},
   "outputs": [
    {
     "name": "stdout",
     "output_type": "stream",
     "text": [
      "CDC.pkl\n",
      "cov uk.pkl\n",
      "DWB.pkl\n",
      "NIH.pkl\n",
      "cov gov.pkl\n",
      "Unicef.pkl\n"
     ]
    }
   ],
   "source": [
    "for fn in glob.glob('*.pkl'):\n",
    "    print(fn)\n",
    "\n",
    "    with open(fn, 'rb') as f:\n",
    "        stuff = pickle.load(f)\n",
    "\n",
    "    with open(fn, 'wb') as f:\n",
    "        pickle.dump(stuff, f, 4)"
   ]
  },
  {
   "cell_type": "code",
   "execution_count": null,
   "metadata": {},
   "outputs": [],
   "source": []
  }
 ],
 "metadata": {
  "kernelspec": {
   "display_name": "coronaton",
   "language": "python",
   "name": "coronaton"
  },
  "language_info": {
   "codemirror_mode": {
    "name": "ipython",
    "version": 3
   },
   "file_extension": ".py",
   "mimetype": "text/x-python",
   "name": "python",
   "nbconvert_exporter": "python",
   "pygments_lexer": "ipython3",
   "version": "3.8.2"
  }
 },
 "nbformat": 4,
 "nbformat_minor": 4
}
