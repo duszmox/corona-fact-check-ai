{
 "cells": [
  {
   "cell_type": "code",
   "execution_count": 215,
   "metadata": {},
   "outputs": [],
   "source": [
    "import os\n",
    "import pickle"
   ]
  },
  {
   "cell_type": "code",
   "execution_count": 216,
   "metadata": {},
   "outputs": [],
   "source": [
    "import pandas as pd\n",
    "import numpy as np\n",
    "import glob\n",
    "from gensim import corpora, models, similarities\n",
    "\n",
    "from tqdm import tqdm\n",
    "\n",
    "import re\n",
    "import string\n",
    "import sys\n",
    "import pickle\n",
    "# def remove_non_ascii(row):\n",
    "#     return row.encode('ascii', 'ignore').decode('utf-8')\n",
    "\n",
    "my_punctuation = '[' + re.escape(''.join(set(string.punctuation).union([' ', '\\t']).difference(['-', '_', '']))) + ']'\n",
    "table = dict.fromkeys(i for i in range(sys.maxunicode) if chr(i) in my_punctuation)\n",
    "\n",
    "def clean_word(word):\n",
    "    # return word\n",
    "    return word.lower().translate(table)"
   ]
  },
  {
   "cell_type": "code",
   "execution_count": 217,
   "metadata": {},
   "outputs": [],
   "source": [
    "articles = {}\n",
    "for fn in glob.glob('*.pkl'):\n",
    "    with open(fn, 'rb') as f:\n",
    "        arts = pickle.load(f)\n",
    "        articles.update(arts)"
   ]
  },
  {
   "cell_type": "code",
   "execution_count": 218,
   "metadata": {},
   "outputs": [
    {
     "data": {
      "text/plain": [
       "1941"
      ]
     },
     "execution_count": 218,
     "metadata": {},
     "output_type": "execute_result"
    }
   ],
   "source": [
    "len(articles)"
   ]
  },
  {
   "cell_type": "code",
   "execution_count": 219,
   "metadata": {},
   "outputs": [],
   "source": [
    "texts = []\n",
    "to_remove = []\n",
    "for url, art in articles.items():\n",
    "    text = art['text']\n",
    "    text = text.replace('\\n', '')\n",
    "    words = re.split(my_punctuation, text)\n",
    "    text = [clean_word(w) for w in words if len(w) > 2]\n",
    "    if 'coronavirus' in text or 'covid' in text or 'covid-19' in text or 'virus' in text:\n",
    "        texts.append(text)\n",
    "    else:\n",
    "        to_remove.append(url)\n",
    "\n",
    "for u in to_remove:\n",
    "    del articles[u]"
   ]
  },
  {
   "cell_type": "code",
   "execution_count": 221,
   "metadata": {},
   "outputs": [
    {
     "data": {
      "text/plain": [
       "(481, 481)"
      ]
     },
     "execution_count": 221,
     "metadata": {},
     "output_type": "execute_result"
    }
   ],
   "source": [
    "len(texts), len(articles)"
   ]
  },
  {
   "cell_type": "code",
   "execution_count": 222,
   "metadata": {},
   "outputs": [],
   "source": [
    "stop_words = ['http', 'https', 'unicef', 'nih', 'facebook', 'google', 'you', 'your', 'www', 'email', 'twitter']"
   ]
  },
  {
   "cell_type": "code",
   "execution_count": 225,
   "metadata": {},
   "outputs": [],
   "source": [
    "dictionary = corpora.Dictionary(texts)\n",
    "dictionary.filter_extremes(no_below=10, no_above=0.4)\n",
    "# dictionary.filter_tokens(bad_ids=list(map(lambda w: dictionary.token2id[w], \n",
    "#                                          filter(lambda w: w in dictionary.token2id, \n",
    "#                                                                                          stop_words))))"
   ]
  },
  {
   "cell_type": "code",
   "execution_count": 226,
   "metadata": {},
   "outputs": [
    {
     "data": {
      "text/plain": [
       "1948"
      ]
     },
     "execution_count": 226,
     "metadata": {},
     "output_type": "execute_result"
    }
   ],
   "source": [
    "len(dictionary.token2id)"
   ]
  },
  {
   "cell_type": "code",
   "execution_count": 227,
   "metadata": {},
   "outputs": [
    {
     "name": "stdout",
     "output_type": "stream",
     "text": [
      "cultural\n",
      "interim\n",
      "feel\n",
      "active\n",
      "investigation\n",
      "change\n",
      "reduce\n",
      "support\n",
      "rooms\n",
      "against\n",
      "middle\n",
      "identify\n",
      "hard\n",
      "share\n",
      "into\n",
      "based\n",
      "recommended\n",
      "regulations\n",
      "puis\n",
      "equipped\n",
      "washing\n",
      "tools\n",
      "every\n",
      "adults\n",
      "visit\n",
      "sneezes\n",
      "addition\n",
      "called\n",
      "sick\n",
      "age\n",
      "pui\n",
      "possible\n",
      "means\n",
      "time\n",
      "treatment\n",
      "additional\n",
      "effectively\n",
      "signs\n",
      "cases\n",
      "benefit\n",
      "urgent\n",
      "it’s\n",
      "learning\n",
      "gloves\n",
      "asymptomatic\n",
      "ill\n",
      "hcp\n",
      "end\n"
     ]
    }
   ],
   "source": [
    "token2id = pd.Series(dictionary.token2id)\n",
    "id2token = pd.Series(token2id.index, index=token2id)\n",
    "cfs = pd.Series(dictionary.cfs)\n",
    "for cfss in cfs.sort_values(ascending=False).index[:50]:\n",
    "    if cfss in id2token:\n",
    "        print(id2token[cfss])\n",
    "# id2token[]"
   ]
  },
  {
   "cell_type": "code",
   "execution_count": 241,
   "metadata": {},
   "outputs": [],
   "source": [
    "tfidf = models.TfidfModel(dictionary=dictionary, normalize=True)\n",
    "corpus = [tfidf[dictionary.doc2bow(text)] for text in texts]\n",
    "lsi = models.LsiModel(corpus=corpus, id2word=dictionary, num_topics=50)\n",
    "index = similarities.MatrixSimilarity(lsi[corpus])"
   ]
  },
  {
   "cell_type": "code",
   "execution_count": 242,
   "metadata": {},
   "outputs": [
    {
     "data": {
      "text/plain": [
       "[(0,\n",
       "  '0.175*\"you\" + 0.159*\"ebola\" + 0.147*\"your\" + 0.145*\"countries\" + 0.135*\"cases\" + 0.105*\"should\" + 0.101*\"china\" + 0.098*\"pacific\" + 0.097*\"nih\" + 0.088*\"our\"'),\n",
       " (1,\n",
       "  '0.442*\"https\" + 0.430*\"www\" + 0.423*\"nih\" + 0.305*\"latest\" + 0.269*\"govget\" + 0.233*\"gov\" + 0.182*\"evolving\" + 0.169*\"emerging\" + 0.152*\"cdc\" + 0.148*\"rapidly\"'),\n",
       " (2,\n",
       "  '0.522*\"pacific\" + 0.298*\"covid-19in\" + 0.273*\"named\" + 0.271*\"equipped\" + 0.268*\"scaling\" + 0.256*\"newly\" + 0.198*\"threat\" + 0.195*\"ready\" + 0.179*\"detect\" + 0.172*\"steps\"'),\n",
       " (3,\n",
       "  '-0.356*\"ebola\" + 0.286*\"your\" + 0.254*\"you\" + -0.234*\"committee\" + -0.218*\"democratic\" + -0.197*\"republic\" + -0.187*\"congo\" + -0.169*\"2005\" + -0.162*\"statement\" + -0.156*\"meeting\"'),\n",
       " (4,\n",
       "  '-0.179*\"you\" + 0.172*\"should\" + 0.172*\"ebola\" + -0.169*\"countries\" + 0.154*\"healthcare\" + 0.141*\"hcp\" + -0.137*\"china\" + -0.135*\"our\" + -0.135*\"we’re\" + 0.118*\"respiratory\"'),\n",
       " (5,\n",
       "  '-0.405*\"you\" + -0.394*\"your\" + -0.185*\"committee\" + -0.177*\"statement\" + -0.177*\"democratic\" + -0.161*\"2005\" + -0.147*\"congo\" + -0.140*\"february\" + -0.131*\"republic\" + -0.131*\"meeting\"'),\n",
       " (6,\n",
       "  '-0.476*\"ebola\" + 0.221*\"committee\" + -0.186*\"vaccine\" + 0.144*\"2005\" + 0.138*\"china\" + 0.137*\"international\" + 0.124*\"statement\" + -0.122*\"survivors\" + 0.120*\"meeting\" + 0.111*\"february\"'),\n",
       " (7,\n",
       "  '0.210*\"hands\" + -0.201*\"ebola\" + -0.192*\"you\" + 0.173*\"touching\" + 0.159*\"droplets\" + 0.137*\"soap\" + 0.127*\"spreads\" + 0.127*\"water\" + 0.116*\"committee\" + 0.114*\"body\"'),\n",
       " (8,\n",
       "  '0.246*\"travel\" + -0.203*\"children\" + 0.188*\"travellers\" + -0.173*\"healthcare\" + -0.169*\"hcp\" + -0.149*\"patients\" + 0.140*\"screening\" + 0.137*\"advice\" + -0.114*\"patient\" + 0.112*\"evd\"'),\n",
       " (9,\n",
       "  '0.242*\"children\" + -0.182*\"countries\" + -0.171*\"cases\" + 0.167*\"researchers\" + -0.131*\"we’re\" + -0.127*\"ebola\" + 0.126*\"vaccine\" + 0.114*\"institute\" + 0.112*\"research\" + 0.105*\"study\"'),\n",
       " (10,\n",
       "  '-0.229*\"children\" + 0.207*\"you\" + 0.126*\"researchers\" + 0.125*\"china\" + -0.116*\"unicef\" + 0.114*\"patients\" + -0.111*\"students\" + -0.102*\"schools\" + -0.102*\"school\" + -0.101*\"hands\"'),\n",
       " (11,\n",
       "  '-0.408*\"children\" + -0.164*\"child\" + -0.145*\"cases\" + 0.123*\"research\" + 0.121*\"community\" + 0.117*\"plan\" + 0.115*\"your\" + 0.113*\"prepare\" + 0.110*\"response\" + 0.110*\"cdc\"'),\n",
       " (12,\n",
       "  '-0.201*\"evd\" + 0.198*\"ebola\" + -0.195*\"africa\" + -0.156*\"cdc\" + -0.153*\"african\" + -0.145*\"wild\" + -0.142*\"fatality\" + -0.141*\"bats\" + 0.123*\"travellers\" + -0.120*\"specimens\"'),\n",
       " (13,\n",
       "  '0.181*\"evd\" + -0.144*\"cdc\" + 0.140*\"distancing\" + 0.134*\"pandemic\" + 0.127*\"researchers\" + 0.127*\"fatality\" + 0.125*\"bats\" + 0.121*\"nih\" + -0.121*\"vaccine\" + 0.116*\"you\"'),\n",
       " (14,\n",
       "  '-0.203*\"cdc\" + 0.174*\"african\" + -0.143*\"guidance\" + 0.142*\"vaccine\" + 0.140*\"africa\" + 0.137*\"hcp\" + 0.131*\"emergency\" + -0.127*\"students\" + -0.127*\"specimens\" + -0.114*\"ebola\"'),\n",
       " (15,\n",
       "  '-0.251*\"you\" + 0.182*\"encourage\" + 0.158*\"meetings\" + 0.145*\"stay\" + 0.135*\"events\" + 0.121*\"your\" + 0.120*\"desks\" + 0.118*\"community\" + 0.117*\"shortness\" + 0.114*\"breath\"'),\n",
       " (16,\n",
       "  '0.152*\"msf\" + -0.144*\"research\" + -0.140*\"technical\" + -0.140*\"china\" + 0.138*\"region\" + -0.137*\"capacities\" + -0.131*\"children\" + 0.129*\"march\" + -0.125*\"we’re\" + -0.120*\"facts\"'),\n",
       " (17,\n",
       "  '-0.275*\"vaccine\" + -0.208*\"travel\" + 0.176*\"technical\" + 0.175*\"capacities\" + -0.142*\"higher\" + 0.128*\"her\" + -0.127*\"serious\" + 0.124*\"she\" + 0.111*\"was\" + 0.111*\"publications\"'),\n",
       " (18,\n",
       "  '0.287*\"facts\" + 0.260*\"yourself\" + 0.258*\"ones\" + 0.256*\"loved\" + 0.227*\"properly\" + 0.224*\"key\" + 0.196*\"protecting\" + 0.184*\"prepared\" + 0.155*\"much\" + 0.131*\"being\"'),\n",
       " (19,\n",
       "  '0.268*\"capacities\" + 0.255*\"technical\" + 0.179*\"vaccine\" + 0.163*\"publications\" + 0.138*\"2005\" + 0.135*\"strengthen\" + 0.130*\"training\" + 0.125*\"developed\" + -0.121*\"research\" + 0.118*\"materials\"')]"
      ]
     },
     "execution_count": 242,
     "metadata": {},
     "output_type": "execute_result"
    }
   ],
   "source": [
    "lsi.print_topics()"
   ]
  },
  {
   "cell_type": "code",
   "execution_count": 243,
   "metadata": {},
   "outputs": [],
   "source": [
    "query = 'We also are dealing with the consequences of global shortages of medical supplies'"
   ]
  },
  {
   "cell_type": "code",
   "execution_count": 244,
   "metadata": {},
   "outputs": [],
   "source": [
    "def do_query(query):\n",
    "    query_text = re.split(my_punctuation, query)\n",
    "    query_text = [clean_word(w) for w in query_text]\n",
    "    print(query_text)\n",
    "    vec_bow = dictionary.doc2bow(query_text)\n",
    "    vec_lsi = lsi[tfidf[vec_bow]] # convert the query to LSI space\n",
    "    sims = index[vec_lsi]\n",
    "    vv = pd.Series(sims, index=list(articles.keys()))\n",
    "    for name in vv.sort_values(ascending=False).index[:10]:\n",
    "        print(name)\n",
    "        print('Similarity: ', np.round(vv.loc[name], 3))\n",
    "        print(articles[name]['summary'])"
   ]
  },
  {
   "cell_type": "code",
   "execution_count": 238,
   "metadata": {},
   "outputs": [
    {
     "name": "stdout",
     "output_type": "stream",
     "text": [
      "['we', 'also', 'are', 'dealing', 'with', 'the', 'consequences', 'of', 'global', 'shortages', 'of', 'medical', 'supplies']\n",
      "https://www.who.int/news-room/detail/03-03-2020-shortage-of-personal-protective-equipment-endangering-health-workers-worldwide\n",
      "Similarity:  0.606\n",
      "Healthcare workers rely on personal protective equipment to protect themselves and their patients from being infected and infecting others.\n",
      "“Without secure supply chains, the risk to healthcare workers around the world is real.\n",
      "WHO has so far shipped nearly half a million sets of personal protective equipment to 47 countries,* but supplies are rapidly depleting.\n",
      "This includes easing restrictions on the export and distribution of personal protective equipment and other medical supplies.\n",
      "Every day, WHO is providing guidance, supporting secure supply chains, and delivering critical equipment to countries in need.\n",
      "https://www.doctorswithoutborders.org/what-we-do/news-stories/news/msf-support-urgently-needed-across-europe-protect-medical-staff\n",
      "Similarity:  0.523\n",
      "Essential medical supplies, including personal protective equipment like face masks to protect health care staff, must be urgently channeled to where they are most needed at the moment.\n",
      "In Italy, where MSF began working in four hospitals at the epicenter of the outbreak last week, shortages of personal protective equipment are increasingly common, leaving health care workers on the frontline vulnerable to the coronavirus.\n",
      "Protective equipment shortages are fueling the epidemic and hampering the ability to save lives.\n",
      "Instead, assistance should be offered across borders to protect healthcare workers who are our collective first line of response against coronavirus.\n",
      "All of this is critical to get the epidemic under control and minimize the number of deaths, both among COVID-19 patients but also other injured and sick patients requiring health care.\n",
      "https://www.doctorswithoutborders.org/what-we-do/news-stories/news/covid-19-outbreak-crisis-update-march-13\n",
      "Similarity:  0.436\n",
      "On March 11, the COVID-19 outbreak was declared a pandemic by the World Health Organization.\n",
      "The high level of supportive and intensive care required to treat patients with COVID-19 places real challenges to even the most advanced health care systems.\n",
      "We also are dealing with the consequences of global shortages of medical supplies, in particular personal protective equipment for health care staff.\n",
      "These regular health care programs are also preparing to deal with potential cases of COVID-19, especially making sure infection prevention measures are respected.\n",
      "MSF teams are also preparing for potential cases of COVID-19 in our projects.\n",
      "https://www.who.int/china/news/feature-stories/detail/chinese-emergency-medical-teams-support-covid-19-response\n",
      "Similarity:  0.414\n",
      "© Shanghai EMTIn a bid to boost its response to the ongoing COVID-19 outbreak, China mobilized four out of five WHO classified Emergency Medical Teams (EMTs) to Wuhan, the centre of the epidemic, on 3 February 2020.\n",
      "These trained and self-sufficient medical teams come prepared to assist in international and national emergencies to avoid over burdening the local systems.\n",
      "The Shanghai, Guangdong, Sichuan, and Tianjin Emergency Medical Teams were deployed to Wuhan city.\n",
      "© Shanghai EMTThe China EMT (Shanghai), classified by WHO in 2016, specializes in emergency medical responses in major emergencies and medical security during mass gatherings and events.\n",
      "The Sichuan Emergency Medical Team dispatched more than 170 team members to Wuhan city.\n",
      "https://www.who.int/dg/speeches/detail/who-director-general-s-opening-remarks-at-the-media-briefing-on-covid-19---3-march-2020\n",
      "Similarity:  0.403\n",
      "There is now a total of 90,893 reported cases of COVID-19 globally, and 3110 deaths.\n",
      "Evidence from China is that only 1% of reported cases do not have symptoms, and most of those cases develop symptoms within 2 days.\n",
      "Globally, about 3.4% of reported COVID-19 cases have died.\n",
      "Third, we have vaccines and therapeutics for seasonal flu, but at the moment there is no vaccine and no specific treatment for COVID-19.\n",
      "And fourth, we don’t even talk about containment for seasonal flu – it’s just not possible.\n",
      "https://www.who.int/news-room/feature-stories/detail/the-complex-logistics-of-ebola-response\n",
      "Similarity:  0.374\n",
      "For the World Health Organization (WHO), a 40-strong operations support and logistics team works almost non-stop to speedily dispatch materials across an area four times the size of neighbouring Rwanda.\n",
      "“The Ebola epidemic is won by the public health response, and the field is won by the work of the logistics teams,” says Dr Abdou Salam Gueye, WHO Incident Manager for the DRC.\n",
      "The OSL teams have also constructed 11 transit centres (hosting people suspected of having Ebola), and eight Emergency Operations Centres.\n",
      "The work of WHO engineers on items such as infrastructure repairs also benefit communities beyond the Ebola response.\n",
      "All hands on deckThe OSL calls on a wide range of technical skills tailored to emergency response.\n",
      "https://www.cdc.gov/coronavirus/2019-ncov/hcp/guidance-for-ems.html\n",
      "Similarity:  0.369\n",
      "This guidance applies to all first responders, including law enforcement, fire services, emergency medical services, and emergency management officials, who anticipate close contact with persons with confirmed or possible COVID-19 in the course of their work.\n",
      "BackgroundEmergency medical services (EMS) play a vital role in responding to requests for assistance, triaging patients, and providing emergency medical treatment and transport for ill persons.\n",
      "Each PSAP and EMS system should seek the involvement of an EMS medical director to provide appropriate medical oversight.\n",
      "For the purposes of this guidance, “EMS clinician” means prehospital EMS and medical first responders.\n",
      "PSAPs should utilize medical dispatch procedures that are coordinated with their EMS medical director and with the local or state public health department.\n",
      "https://www.cdc.gov/coronavirus/2019-ncov/if-you-are-sick/steps-when-sick.html?CDC_AA_refVal=https%3A%2F%2Fwww.cdc.gov%2Fcoronavirus%2F2019-ncov%2Fabout%2Fsteps-when-sick.html\n",
      "Similarity:  0.34\n",
      "alert iconCall 911 if you have a medical emergency: If you have a medical emergency and need to call 911, notify the operator that you have or think you might have, COVID-19.\n",
      "If possible, put on a facemask before medical help arrives.\n",
      "https://www.cdc.gov/coronavirus/2019-ncov/if-you-are-sick/steps-when-sick.html\n",
      "Similarity:  0.34\n",
      "alert iconCall 911 if you have a medical emergency: If you have a medical emergency and need to call 911, notify the operator that you have or think you might have, COVID-19.\n",
      "If possible, put on a facemask before medical help arrives.\n",
      "http://www.euro.who.int/en/about-us/regional-director/statements/statement-every-country-needs-to-take-boldest-actions-to-stop-covid-19\n",
      "Similarity:  0.337\n",
      "Europe is the epicenter of the first pandemic of COVID-19 and every country, with no exceptions, needs to take their boldest actions to stop or slow down the spread of this virus.\n",
      "Preparedness, readiness and response measures on multiple levels have been launched in all our Member States.\n",
      "Some of our Member States are in scenario 2 and 3, and many are in 3 and 4.\n",
      "Health facilities must have the necessary equipment to care for those seriously affected and to protect health workers from exposure.\n",
      "It is important that countries work together, learn from each other and harmonize efforts.\n"
     ]
    }
   ],
   "source": [
    "do_query(query)"
   ]
  },
  {
   "cell_type": "code",
   "execution_count": null,
   "metadata": {},
   "outputs": [],
   "source": []
  },
  {
   "cell_type": "code",
   "execution_count": null,
   "metadata": {},
   "outputs": [],
   "source": []
  }
 ],
 "metadata": {
  "kernelspec": {
   "display_name": "coronaton2",
   "language": "python",
   "name": "coronaton2"
  },
  "language_info": {
   "codemirror_mode": {
    "name": "ipython",
    "version": 3
   },
   "file_extension": ".py",
   "mimetype": "text/x-python",
   "name": "python",
   "nbconvert_exporter": "python",
   "pygments_lexer": "ipython3",
   "version": "3.7.0"
  }
 },
 "nbformat": 4,
 "nbformat_minor": 4
}
