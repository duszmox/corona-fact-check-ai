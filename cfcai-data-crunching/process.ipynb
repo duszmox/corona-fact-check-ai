{
 "cells": [
  {
   "cell_type": "code",
   "execution_count": 1,
   "metadata": {},
   "outputs": [],
   "source": [
    "import os\n",
    "import pickle"
   ]
  },
  {
   "cell_type": "code",
   "execution_count": 23,
   "metadata": {},
   "outputs": [],
   "source": [
    "import pandas as pd\n",
    "import numpy as np\n",
    "import glob\n",
    "from gensim import corpora, models, similarities\n",
    "\n",
    "from tqdm import tqdm\n",
    "\n",
    "import re\n",
    "import string\n",
    "import sys\n",
    "import pickle\n",
    "# def remove_non_ascii(row):\n",
    "#     return row.encode('ascii', 'ignore').decode('utf-8')\n",
    "\n",
    "my_punctuation = '[' + re.escape(''.join(set(string.punctuation).union([' ', '\\t']).difference(['-', '_', '']))) + ']'\n",
    "table = dict.fromkeys(i for i in range(sys.maxunicode) if chr(i) in my_punctuation)\n",
    "\n",
    "def clean_word(word):\n",
    "    # return word\n",
    "    return word.lower().translate(table)"
   ]
  },
  {
   "cell_type": "code",
   "execution_count": 196,
   "metadata": {},
   "outputs": [],
   "source": [
    "articles = {}\n",
    "for fn in glob.glob('*.pkl'):\n",
    "    with open(fn, 'rb') as f:\n",
    "        arts = pickle.load(f)\n",
    "        articles.update(arts)"
   ]
  },
  {
   "cell_type": "code",
   "execution_count": 197,
   "metadata": {},
   "outputs": [
    {
     "data": {
      "text/plain": [
       "1640"
      ]
     },
     "execution_count": 197,
     "metadata": {},
     "output_type": "execute_result"
    }
   ],
   "source": [
    "len(articles)"
   ]
  },
  {
   "cell_type": "code",
   "execution_count": 198,
   "metadata": {},
   "outputs": [],
   "source": [
    "texts = []\n",
    "to_remove = []\n",
    "for url, art in articles.items():\n",
    "    text = art['text']\n",
    "    text = text.replace('\\n', '')\n",
    "    words = re.split(my_punctuation, text)\n",
    "    text = [clean_word(w) for w in words if len(w) > 2]\n",
    "    if 'coronavirus' in text or 'covid' in text or 'covid-19' in text or 'virus' in text:\n",
    "        texts.append(text)\n",
    "    else:\n",
    "        to_remove.append(url)"
   ]
  },
  {
   "cell_type": "code",
   "execution_count": 199,
   "metadata": {},
   "outputs": [],
   "source": [
    "for u in to_remove:\n",
    "    del articles[u]"
   ]
  },
  {
   "cell_type": "code",
   "execution_count": 200,
   "metadata": {},
   "outputs": [
    {
     "data": {
      "text/plain": [
       "(289, 289)"
      ]
     },
     "execution_count": 200,
     "metadata": {},
     "output_type": "execute_result"
    }
   ],
   "source": [
    "len(texts), len(articles)"
   ]
  },
  {
   "cell_type": "code",
   "execution_count": 201,
   "metadata": {},
   "outputs": [],
   "source": [
    "stop_words = ['http', 'https', 'unicef', 'nih', 'facebook', 'google', 'you', 'your', 'www', 'email', 'twitter']"
   ]
  },
  {
   "cell_type": "code",
   "execution_count": 204,
   "metadata": {},
   "outputs": [],
   "source": [
    "dictionary = corpora.Dictionary(texts)\n",
    "dictionary.filter_extremes(no_below=5, no_above=0.4)\n",
    "# dictionary.filter_tokens(bad_ids=list(map(lambda w: dictionary.token2id[w], \n",
    "#                                          filter(lambda w: w in dictionary.token2id, \n",
    "#                                                                                          stop_words))))"
   ]
  },
  {
   "cell_type": "code",
   "execution_count": 205,
   "metadata": {},
   "outputs": [
    {
     "data": {
      "text/plain": [
       "2182"
      ]
     },
     "execution_count": 205,
     "metadata": {},
     "output_type": "execute_result"
    }
   ],
   "source": [
    "len(dictionary.token2id)"
   ]
  },
  {
   "cell_type": "code",
   "execution_count": 206,
   "metadata": {},
   "outputs": [
    {
     "name": "stdout",
     "output_type": "stream",
     "text": [
      "there\n",
      "application\n",
      "considerations\n",
      "información\n",
      "inglés\n",
      "submitted\n",
      "secondary\n",
      "they\n",
      "support\n",
      "more\n",
      "much\n",
      "activities\n",
      "needed\n",
      "conditions\n",
      "outbreak\n",
      "even\n",
      "hora\n",
      "pressure\n",
      "measures\n",
      "about\n",
      "may\n",
      "assist\n",
      "prevent\n",
      "all\n",
      "expected\n",
      "body\n",
      "blood\n",
      "spread\n",
      "sign\n",
      "mouth\n",
      "complications\n",
      "new\n",
      "rápidamente\n",
      "address\n",
      "implementing\n",
      "results\n",
      "household\n",
      "protective\n",
      "method\n",
      "coughs\n",
      "parts\n",
      "continuarán\n",
      "families\n",
      "monday\n",
      "authority\n",
      "patient’s\n",
      "serious\n",
      "up-to-date\n"
     ]
    }
   ],
   "source": [
    "token2id = pd.Series(dictionary.token2id)\n",
    "id2token = pd.Series(token2id.index, index=token2id)\n",
    "cfs = pd.Series(dictionary.cfs)\n",
    "for cfss in cfs.sort_values(ascending=False).index[:50]:\n",
    "    if cfss in id2token:\n",
    "        print(id2token[cfss])\n",
    "# id2token[]"
   ]
  },
  {
   "cell_type": "code",
   "execution_count": 207,
   "metadata": {},
   "outputs": [],
   "source": [
    "tfidf = models.TfidfModel(dictionary=dictionary, normalize=True)\n",
    "corpus = [tfidf[dictionary.doc2bow(text)] for text in texts]\n",
    "lsi = models.LsiModel(corpus=corpus, id2word=dictionary, num_topics=50)\n",
    "index = similarities.MatrixSimilarity(lsi[corpus])"
   ]
  },
  {
   "cell_type": "code",
   "execution_count": 208,
   "metadata": {},
   "outputs": [
    {
     "data": {
      "text/plain": [
       "[(0,\n",
       "  '0.439*\"los\" + 0.357*\"que\" + 0.271*\"para\" + 0.193*\"rápidamente\" + 0.184*\"salud\" + 0.182*\"vez\" + 0.175*\"por\" + 0.172*\"información\" + 0.116*\"las\" + 0.099*\"actuar\"'),\n",
       " (1,\n",
       "  '0.432*\"https\" + 0.404*\"nih\" + 0.399*\"www\" + 0.371*\"latest\" + 0.269*\"govget\" + 0.215*\"evolving\" + 0.209*\"rapidly\" + 0.205*\"gov\" + 0.198*\"research\" + 0.188*\"emerging\"'),\n",
       " (2,\n",
       "  '0.249*\"you\" + 0.242*\"your\" + 0.145*\"should\" + 0.119*\"patients\" + 0.115*\"people\" + 0.108*\"children\" + 0.106*\"healthcare\" + 0.101*\"hands\" + 0.100*\"home\" + 0.094*\"not\"'),\n",
       " (3,\n",
       "  '0.382*\"you\" + 0.291*\"your\" + -0.205*\"patients\" + -0.162*\"hcp\" + -0.142*\"patient\" + -0.135*\"healthcare\" + -0.129*\"ppe\" + -0.129*\"should\" + -0.121*\"con\" + -0.110*\"personnel\"'),\n",
       " (4,\n",
       "  '0.276*\"con\" + 0.234*\"las\" + 0.227*\"del\" + 0.214*\"vacuna\" + 0.195*\"puede\" + 0.182*\"que\" + 0.181*\"vih\" + 0.158*\"you\" + 0.155*\"pueden\" + 0.137*\"los\"'),\n",
       " (5,\n",
       "  '0.238*\"your\" + 0.215*\"you\" + -0.166*\"children\" + 0.141*\"hands\" + -0.136*\"researchers\" + -0.118*\"our\" + 0.108*\"should\" + -0.102*\"pandemic\" + -0.097*\"said\" + -0.097*\"vaccine\"'),\n",
       " (6,\n",
       "  '-0.248*\"hands\" + -0.188*\"touching\" + 0.174*\"you\" + 0.169*\"patients\" + -0.161*\"soap\" + -0.154*\"water\" + -0.150*\"body\" + -0.140*\"spreads\" + 0.136*\"healthcare\" + -0.127*\"droplets\"'),\n",
       " (7,\n",
       "  '-0.391*\"children\" + 0.222*\"travel\" + 0.196*\"you\" + -0.194*\"unicef\" + -0.152*\"child\" + 0.129*\"researchers\" + 0.118*\"advice\" + -0.106*\"facts\" + 0.101*\"brain\" + -0.094*\"know\"'),\n",
       " (8,\n",
       "  '0.241*\"community\" + -0.223*\"children\" + 0.200*\"outbreak\" + -0.198*\"you\" + 0.125*\"plan\" + 0.122*\"events\" + 0.122*\"spread\" + 0.122*\"encourage\" + 0.113*\"staff\" + -0.106*\"hcp\"'),\n",
       " (9,\n",
       "  '-0.279*\"travel\" + 0.187*\"encourage\" + 0.161*\"your\" + -0.155*\"advice\" + -0.141*\"you\" + 0.136*\"stay\" + 0.131*\"countertops\" + 0.123*\"researchers\" + 0.123*\"desks\" + 0.122*\"post\"'),\n",
       " (10,\n",
       "  '-0.327*\"facts\" + -0.294*\"knowing\" + 0.286*\"children\" + -0.235*\"ones\" + -0.223*\"loved\" + -0.222*\"protecting\" + -0.222*\"prepared\" + -0.221*\"yourself\" + -0.209*\"properly\" + -0.195*\"key\"'),\n",
       " (11,\n",
       "  '0.300*\"specimens\" + 0.191*\"testing\" + 0.167*\"specimen\" + 0.166*\"children\" + -0.164*\"hcp\" + 0.149*\"laboratories\" + 0.141*\"swab\" + 0.124*\"reporting\" + -0.113*\"pandemic\" + -0.110*\"patient\"'),\n",
       " (12,\n",
       "  '0.152*\"brain\" + 0.149*\"students\" + -0.146*\"distancing\" + 0.142*\"memory\" + -0.138*\"msf\" + 0.132*\"prepare\" + -0.114*\"people\" + -0.109*\"social\" + 0.104*\"should\" + 0.104*\"community\"'),\n",
       " (13,\n",
       "  '-0.300*\"travel\" + 0.213*\"hands\" + -0.184*\"higher\" + -0.183*\"serious\" + 0.162*\"msf\" + -0.153*\"children\" + 0.131*\"wash\" + -0.118*\"adults\" + 0.117*\"you\" + 0.106*\"outbreak\"'),\n",
       " (14,\n",
       "  '0.461*\"propagación\" + 0.218*\"muestra\" + 0.216*\"probabilidades\" + 0.216*\"formas\" + 0.214*\"inmunitario\" + 0.205*\"eso\" + 0.203*\"sistema\" + 0.197*\"pacientes\" + 0.177*\"respiratorias\" + 0.176*\"video\"'),\n",
       " (15,\n",
       "  '0.212*\"travel\" + 0.201*\"hands\" + -0.177*\"medical\" + 0.175*\"distancing\" + -0.168*\"911\" + 0.148*\"social\" + -0.146*\"you\" + -0.132*\"serious\" + -0.130*\"emergency\" + -0.130*\"higher\"'),\n",
       " (16,\n",
       "  '0.188*\"travel\" + 0.155*\"encourage\" + -0.149*\"hiv\" + -0.138*\"patients\" + 0.130*\"memory\" + 0.121*\"brain\" + 0.116*\"advice\" + -0.116*\"distancing\" + 0.110*\"specimens\" + -0.110*\"prepare\"'),\n",
       " (17,\n",
       "  '-0.322*\"hiv\" + -0.179*\"hands\" + -0.177*\"travel\" + -0.173*\"vih\" + 0.146*\"social\" + -0.139*\"your\" + 0.125*\"distancing\" + 0.111*\"vacuna\" + -0.107*\"treatment\" + 0.101*\"you\"'),\n",
       " (18,\n",
       "  '0.564*\"vih\" + -0.316*\"vacuna\" + -0.206*\"hijo\" + 0.198*\"del\" + 0.177*\"prueba\" + -0.169*\"puede\" + -0.141*\"contra\" + -0.140*\"niños\" + -0.137*\"sarampión\" + 0.126*\"atención\"'),\n",
       " (19,\n",
       "  '-0.249*\"hiv\" + 0.192*\"serious\" + 0.184*\"higher\" + 0.180*\"hands\" + 0.140*\"specimens\" + 0.130*\"event\" + -0.121*\"her\" + 0.120*\"illness\" + -0.117*\"advice\" + 0.116*\"your\"')]"
      ]
     },
     "execution_count": 208,
     "metadata": {},
     "output_type": "execute_result"
    }
   ],
   "source": [
    "lsi.print_topics()"
   ]
  },
  {
   "cell_type": "code",
   "execution_count": 212,
   "metadata": {},
   "outputs": [],
   "source": [
    "query = 'We also are dealing with the consequences of global shortages of medical supplies'"
   ]
  },
  {
   "cell_type": "code",
   "execution_count": 213,
   "metadata": {},
   "outputs": [],
   "source": [
    "def do_query(query):\n",
    "    query_text = re.split(my_punctuation, query)\n",
    "    query_text = [clean_word(w) for w in query_text]\n",
    "    print(query_text)\n",
    "    vec_bow = dictionary.doc2bow(query_text)\n",
    "    vec_lsi = lsi[tfidf[vec_bow]] # convert the query to LSI space\n",
    "    sims = index[vec_lsi]\n",
    "    vv = pd.Series(sims, index=list(articles.keys()))\n",
    "    for name in vv.sort_values(ascending=False).index[:10]:\n",
    "        print(name)\n",
    "        print('Similarity: ', np.round(vv.loc[name], 3))\n",
    "        print(articles[name]['summary'])"
   ]
  },
  {
   "cell_type": "code",
   "execution_count": 214,
   "metadata": {},
   "outputs": [
    {
     "name": "stdout",
     "output_type": "stream",
     "text": [
      "['we', 'also', 'are', 'dealing', 'with', 'the', 'consequences', 'of', 'global', 'shortages', 'of', 'medical', 'supplies']\n",
      "https://www.cdc.gov/coronavirus/2019-ncov/cases-updates/cdc-in-action.html\n",
      "Similarity:  0.63\n",
      "CDC is aggressively responding to the global outbreak of COVID-19 and preparing for the potential of community spread in the United States.\n",
      "https://www.cdc.gov/coronavirus/2019-ncov/cases-updates/index.html\n",
      "Similarity:  0.58\n",
      "This is an emerging, rapidly evolving situation and CDC will provide updated information as it becomes available, in addition to updated guidance.\n",
      "CDC is aggressively responding to the global outbreak of COVID-19 and preparing for the potential of community spread in the United States.\n",
      "https://www.doctorswithoutborders.org/what-we-do/news-stories/news/covid-19-outbreak-crisis-update-march-13\n",
      "Similarity:  0.564\n",
      "On March 11, the COVID-19 outbreak was declared a pandemic by the World Health Organization.\n",
      "The high level of supportive and intensive care required to treat patients with COVID-19 places real challenges to even the most advanced health care systems.\n",
      "We also are dealing with the consequences of global shortages of medical supplies, in particular personal protective equipment for health care staff.\n",
      "These regular health care programs are also preparing to deal with potential cases of COVID-19, especially making sure infection prevention measures are respected.\n",
      "MSF teams are also preparing for potential cases of COVID-19 in our projects.\n",
      "https://www.unicef.org/press-releases/un-releases-15-million-help-vulnerable-countries-battle-spread-coronavirus\n",
      "Similarity:  0.493\n",
      "NEW YORK / GENEVA, 1 March 2020 – UN Humanitarian Chief Mark Lowcock today released US$15 million from the Central Emergency Response Fund (CERF) to help fund global efforts to contain the COVID-19 virus.\n",
      "It will fund essential activities including monitoring the spread of the virus, investigating cases, and the operation of national laboratories.\n",
      "“This grant from the UN’s Emergency Fund will help countries with fragile health systems boost their detection and response operations.\n",
      "Tedros Adhanom Ghebreyesus said: “The potential spread of the virus to countries with weaker health systems is one of our biggest concerns.\n",
      "These funds will help support these countries get ready for detecting and isolating cases, protecting their health workers, and treating patients with dignity and appropriate care.\n",
      "https://www.doctorswithoutborders.org/what-we-do/news-stories/news/msf-support-urgently-needed-across-europe-protect-medical-staff\n",
      "Similarity:  0.478\n",
      "Essential medical supplies, including personal protective equipment like face masks to protect health care staff, must be urgently channeled to where they are most needed at the moment.\n",
      "In Italy, where MSF began working in four hospitals at the epicenter of the outbreak last week, shortages of personal protective equipment are increasingly common, leaving health care workers on the frontline vulnerable to the coronavirus.\n",
      "Protective equipment shortages are fueling the epidemic and hampering the ability to save lives.\n",
      "Instead, assistance should be offered across borders to protect healthcare workers who are our collective first line of response against coronavirus.\n",
      "All of this is critical to get the epidemic under control and minimize the number of deaths, both among COVID-19 patients but also other injured and sick patients requiring health care.\n",
      "https://www.doctorswithoutborders.org/what-we-do/news-stories/story/msf-supports-response-coronavirus-outbreak-china\n",
      "Similarity:  0.468\n",
      "“As of February 14, there are more than 64,000 COVID-19 cases, 99 percent of which are in China,” said Gert Verdonck, MSF’s emergency coordinator for COVID-19.\n",
      "So, we want to contribute to supporting frontline health workers with the specialized protection they need to work safely in an outbreak of this magnitude.”The World Health Organization has declared the novel coronavirus outbreak a public health emergency of international concern.\n",
      "It is estimated that 82 percent of the people who get infected will only suffer from a mild form of the disease.\n",
      "Community engagement is a crucial component of any outbreak response.\n",
      "MSF’s health education project in Hong Kong focuses on vulnerable people—including people who are socio-economically disadvantaged and those who are more susceptible to developing severe disease if they are infected, such as the elderly.\n",
      "https://www.cnbc.com/2020/03/13/who-says-more-needs-to-be-done-to-stem-coronavirus-outbreak-in-iran-as-cases-exceed-10000.html\n",
      "Similarity:  0.449\n",
      "Members of the medical team spray disinfectant to sanitize outdoor place of Imam Reza's holy shrine, following the coronavirus outbreak, in Mashhad, Iran February 27, 2020.\n",
      "Public health efforts to control the COVID-19 outbreak in Iran are \"evolving in the right direction,\" but \"more needs to be done\" to stop the spread as cases exceed 10,000, the World Health Organization said Friday.\n",
      "Over 30 labs across Iran have the capacity to run tests and at least 20 more will be added, Brennan said.\n",
      "The World Health Organization declared COVID-19 a global pandemic on Wednesday.\n",
      "Earlier this month, Iran's health authorities began manning checkpoints to limit travel between major cities amid the virus outbreak and shut down schools and universities.\n",
      "https://www.cdc.gov/coronavirus/2019-ncov/hcp/guidance-for-ems.html\n",
      "Similarity:  0.418\n",
      "This guidance applies to all first responders, including law enforcement, fire services, emergency medical services, and emergency management officials, who anticipate close contact with persons with confirmed or possible COVID-19 in the course of their work.\n",
      "BackgroundEmergency medical services (EMS) play a vital role in responding to requests for assistance, triaging patients, and providing emergency medical treatment and transport for ill persons.\n",
      "Each PSAP and EMS system should seek the involvement of an EMS medical director to provide appropriate medical oversight.\n",
      "For the purposes of this guidance, “EMS clinician” means prehospital EMS and medical first responders.\n",
      "PSAPs should utilize medical dispatch procedures that are coordinated with their EMS medical director and with the local or state public health department.\n",
      "https://www.doctorswithoutborders.org/what-we-do/news-stories/story/msf-begins-covid-19-response-activities-four-northern-italian\n",
      "Similarity:  0.417\n",
      "The infectious disease support activities will reinforce prevention and control actions already implemented within the hospitals to avoid the transmission of the virus and guarantee the safety of health workers.\n",
      "“In an epidemic like this, stopping the transmission of the virus is crucial,\" said Dr. Lodesani.\n",
      "\"In hospitals it is key to reduce the risks for frontline staff, a key factor to fight the epidemic.\n",
      "Our teams are working in solidarity with the Italian people and the health care professionals on the frontline of the pandemic response.\n",
      "We are also in contact with health authorities in other countries where we work regarding the COVID-19 pandemic.\n",
      "https://www.cdc.gov/coronavirus/2019-ncov/cases-updates/cases-in-us.html\n",
      "Similarity:  0.403\n",
      "Updated March 20, 2020This page will be updated regularly at noon Mondays through Fridays.\n",
      "Numbers close out at 4 p.m. the day before reporting.\n",
      "CDC is responding to an outbreak of respiratory illness caused by a novel (new) coronavirus.\n",
      "The outbreak first started in Wuhan, China, but cases have been identified in a growing number of other locations internationally, including the United States.\n",
      "In addition to CDC, many public health laboratories are now testing for the virus that causes COVID-19.\n"
     ]
    }
   ],
   "source": [
    "do_query(query)"
   ]
  },
  {
   "cell_type": "code",
   "execution_count": null,
   "metadata": {},
   "outputs": [],
   "source": []
  },
  {
   "cell_type": "code",
   "execution_count": null,
   "metadata": {},
   "outputs": [],
   "source": []
  }
 ],
 "metadata": {
  "kernelspec": {
   "display_name": "coronaton2",
   "language": "python",
   "name": "coronaton2"
  },
  "language_info": {
   "codemirror_mode": {
    "name": "ipython",
    "version": 3
   },
   "file_extension": ".py",
   "mimetype": "text/x-python",
   "name": "python",
   "nbconvert_exporter": "python",
   "pygments_lexer": "ipython3",
   "version": "3.7.0"
  }
 },
 "nbformat": 4,
 "nbformat_minor": 4
}
